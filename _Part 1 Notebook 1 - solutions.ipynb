{
 "cells": [
  {
   "cell_type": "markdown",
   "metadata": {},
   "source": [
    "<b><font size =\"6\">Notebook 1 - solutions</font></b>\n",
    "\n",
    "The following notebook contains the solutions for the first notebook in the tutorial. It is recommended that you check those solutions either after you finish the whole notebook."
   ]
  },
  {
   "cell_type": "code",
   "execution_count": null,
   "metadata": {
    "collapsed": false
   },
   "outputs": [],
   "source": [
    "# Distance conversion program with user input\n",
    "# Converts a given distance in miles to kilometers\n",
    "miles = int(input('Please enter distance in miles: '))\n",
    "kilometers = (miles * 8.0) / 5.0\n",
    "print (\"Converting distance in miles to kilometers:\")\n",
    "print (\"Distance in miles: \", miles)\n",
    "print (\"Distance in kilometers:\", kilometers)"
   ]
  },
  {
   "cell_type": "code",
   "execution_count": null,
   "metadata": {
    "collapsed": false
   },
   "outputs": [],
   "source": [
    "# Temperature conversion program with user input\n",
    "# Converts temperature in centrigrade to fahrenheit and kelvin\n",
    "centigrade = int(input('Please enter temperature in centigrade: '))\n",
    "fahrenheit = centigrade * (9 / 5) + 32\n",
    "kelvin = centigrade + 273.15\n",
    "print (\"Converting temperature in centrigrade to fahrenheit and kelvin:\")\n",
    "print (\"Centigrade: \", centigrade)\n",
    "print (\"Fahrenheit: \", fahrenheit)\n",
    "print (\"Kelvin:     \", kelvin)"
   ]
  },
  {
   "cell_type": "code",
   "execution_count": null,
   "metadata": {
    "collapsed": false
   },
   "outputs": [],
   "source": [
    "# Temperature conversion function\n",
    "\n",
    "def convert_temperature(centigrade):\n",
    "    fahrenheit = centigrade * 9.0 / 5.0 + 32\n",
    "    kelvin = centigrade + 273.15\n",
    "    print (\"Converting temperature in centrigrade to fahrenheit and kelvin:\")\n",
    "    print (\"Centigrade: \", centigrade)\n",
    "    print (\"Fahrenheit: \", fahrenheit)\n",
    "    print (\"Kelvin:     \", kelvin)\n",
    "\n",
    "# Test calls for the temperature conversion function\n",
    "\n",
    "convert_temperature(23.5)\n",
    "convert_temperature(100)\n",
    "convert_temperature(-14)"
   ]
  }
 ],
 "metadata": {
  "kernelspec": {
   "display_name": "Python 3",
   "language": "python",
   "name": "python3"
  },
  "language_info": {
   "codemirror_mode": {
    "name": "ipython",
    "version": 3
   },
   "file_extension": ".py",
   "mimetype": "text/x-python",
   "name": "python",
   "nbconvert_exporter": "python",
   "pygments_lexer": "ipython3",
   "version": "3.5.1"
  }
 },
 "nbformat": 4,
 "nbformat_minor": 0
}
