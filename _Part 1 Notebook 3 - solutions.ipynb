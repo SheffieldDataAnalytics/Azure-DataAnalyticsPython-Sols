{
 "cells": [
  {
   "cell_type": "markdown",
   "metadata": {},
   "source": [
    "<b><font size =\"6\">Notebook 3 - solutions</font></b>\n",
    "\n",
    "The following notebook contains the solutions for the third notebook in the tutorial. It is recommended that you check those solutions either after you finish the whole notebook."
   ]
  },
  {
   "cell_type": "code",
   "execution_count": null,
   "metadata": {
    "collapsed": false
   },
   "outputs": [],
   "source": [
    "# Factorial function\n",
    "\n",
    "def factorial(n):\n",
    "    fact = 1\n",
    "    while n > 1:\n",
    "        fact = fact * n\n",
    "        n = n - 1\n",
    "    return (fact)\n",
    "\n",
    "\n",
    "# Test calls for the factorial function\n",
    "\n",
    "print (factorial(5))\n",
    "print (factorial(7))\n",
    "print (factorial(15))"
   ]
  },
  {
   "cell_type": "code",
   "execution_count": null,
   "metadata": {
    "collapsed": false
   },
   "outputs": [],
   "source": [
    "# Guessing Game function \n",
    "\n",
    "from random import randint # import statements should really be at top of file\n",
    "\n",
    "def guess(attempts,range):\n",
    "    number = randint(1,range)\n",
    "    print (\"Welcome! Can you guess my secret number?\")\n",
    "    while attempts > 0:\n",
    "        print ('You have', attempts, 'guesses remaining')\n",
    "        guess = int(input('Make a guess: '))\n",
    "        if number == guess:\n",
    "            print (\"Well done! You got it right.\")\n",
    "            break\n",
    "        elif guess < number:\n",
    "            print (\"No - too low!\")\n",
    "        elif guess > number:\n",
    "            print (\"No - too high!\")\n",
    "        attempts = attempts - 1\n",
    "    if attempts == 0:\n",
    "        print (\"No more guesses - bad luck!\")\n",
    "    print (\"GAME OVER: thanks for playing. Bye.\", \"\\n\")\n",
    "\n",
    "# Test calls for Guessing Game    \n",
    "guess(3,10)\n",
    "guess(3,16)\n",
    "guess(4,25)"
   ]
  },
  {
   "cell_type": "code",
   "execution_count": null,
   "metadata": {
    "collapsed": false
   },
   "outputs": [],
   "source": [
    "# Computes square roots using Newton's method\n",
    "\n",
    "def mySqrt(A):\n",
    "    x = 1.0\n",
    "    errorTolerance = 0.001\n",
    "    while abs(x ** 2 - A) > errorTolerance:\n",
    "        x = x - (x ** 2 - A)/(2 * x)\n",
    "    return x\n",
    "\n",
    "# Test calls for the function\n",
    "no = 4\n",
    "print(\"The square root of\", no, \"is approximately\", mySqrt(no))\n",
    "no = 121\n",
    "print(\"The square root of\", no, \"is approximately\", mySqrt(no))\n",
    "no = 3.1415\n",
    "print(\"The square root of\", no, \"is approximately\", mySqrt(no))"
   ]
  },
  {
   "cell_type": "code",
   "execution_count": null,
   "metadata": {
    "collapsed": false
   },
   "outputs": [],
   "source": [
    "# Computes cube roots using Newton's method\n",
    "\n",
    "def myCubeRoot(A):\n",
    "    x = 1.0\n",
    "    errorTolerance = 0.001\n",
    "    while abs(x ** 3 - A) > errorTolerance:\n",
    "        x = x - (x ** 3 - A)/(3 * x ** 2)\n",
    "    return x\n",
    "\n",
    "# Test calls for the function\n",
    "no = 8\n",
    "print(\"The cube root of\", no, \"is approximately\", mySqrt(no))\n",
    "no = 81\n",
    "print(\"The cube root of\", no, \"is approximately\", mySqrt(no))\n",
    "no = 1210\n",
    "print(\"The cube root of\", no, \"is approximately\", mySqrt(no))"
   ]
  }
 ],
 "metadata": {
  "kernelspec": {
   "display_name": "Python 3",
   "language": "python",
   "name": "python3"
  },
  "language_info": {
   "codemirror_mode": {
    "name": "ipython",
    "version": 3
   },
   "file_extension": ".py",
   "mimetype": "text/x-python",
   "name": "python",
   "nbconvert_exporter": "python",
   "pygments_lexer": "ipython3",
   "version": "3.5.1"
  }
 },
 "nbformat": 4,
 "nbformat_minor": 0
}
