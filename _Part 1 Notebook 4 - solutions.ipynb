{
 "cells": [
  {
   "cell_type": "markdown",
   "metadata": {},
   "source": [
    "<b><font size =\"6\">Notebook 4 - solutions</font></b>\n",
    "\n",
    "The following notebook contains the solutions for the fourth notebook in the tutorial. It is recommended that you check those solutions either after you finish the whole notebook."
   ]
  },
  {
   "cell_type": "code",
   "execution_count": null,
   "metadata": {
    "collapsed": false
   },
   "outputs": [],
   "source": [
    "# Sum of List\n",
    "\n",
    "def sum_list(values):\n",
    "    sum = 0\n",
    "    for val in values:\n",
    "        sum = sum + val\n",
    "    return (sum)\n",
    "\n",
    "# Test calls for the function\n",
    "print(sum_list([1,2,3,4,5]))\n",
    "print(sum_list([10,9,8,7.5]))\n",
    "print(sum_list([-1,-2,3,-4]))"
   ]
  },
  {
   "cell_type": "code",
   "execution_count": null,
   "metadata": {
    "collapsed": false
   },
   "outputs": [],
   "source": [
    "# Triangular Number\n",
    "\n",
    "def triangular_number(n):\n",
    "    total = 0\n",
    "    for i in range(1,n+1):\n",
    "        total = total + i\n",
    "    return (total)\n",
    "\n",
    "# Test calls for the function\n",
    "print(triangular_number(3))\n",
    "print(triangular_number(10))\n",
    "print(triangular_number(21))"
   ]
  },
  {
   "cell_type": "code",
   "execution_count": null,
   "metadata": {
    "collapsed": false
   },
   "outputs": [],
   "source": [
    "# List of Squares\n",
    "\n",
    "def square_list(values):\n",
    "    squares = []\n",
    "    for val in values:\n",
    "        squares.append(val ** 2)\n",
    "    return (squares)\n",
    "\n",
    "# Test calls for the function\n",
    "print(square_list([1,2,3,4,5]))\n",
    "print(square_list([10,9,8,7.5]))\n",
    "print(square_list([-1,-2,3,-4]))"
   ]
  },
  {
   "cell_type": "code",
   "execution_count": null,
   "metadata": {
    "collapsed": false
   },
   "outputs": [],
   "source": [
    "# Triangular List\n",
    "\n",
    "def triangular_list(values):\n",
    "    triangs = []\n",
    "    for val in values:\n",
    "        triangs.append(triangular_number(val))\n",
    "    return (triangs)\n",
    "\n",
    "# Test calls for the function\n",
    "print(triangular_list([1,2,3,4,5]))\n",
    "print(triangular_list([3,10,21]))"
   ]
  },
  {
   "cell_type": "code",
   "execution_count": null,
   "metadata": {
    "collapsed": false
   },
   "outputs": [],
   "source": [
    "# Quadratic and cubic function plot\n",
    "%matplotlib inline\n",
    "import pylab as pyl\n",
    "\n",
    "X = range(0,21)\n",
    "F = []\n",
    "G = []\n",
    "\n",
    "for x in X:\n",
    "    F.append(x ** 2 + 20)\n",
    "    G.append((x/2.0) ** 3 - 100)\n",
    "    \n",
    "# Blue line is the quadratic function\n",
    "pyl.plot(X,F,'b-o')\n",
    "\n",
    "# Red line is the cubic function\n",
    "pyl.plot(X,G,'r-*')\n",
    "\n",
    "pyl.show()"
   ]
  },
  {
   "cell_type": "code",
   "execution_count": null,
   "metadata": {
    "collapsed": false
   },
   "outputs": [],
   "source": [
    "# Recovering signal from noise task\n",
    "\n",
    "###########################\n",
    "# Load noisy signal data\n",
    "\n",
    "time = []\n",
    "noisy = []\n",
    "f = open('files/noisy_signal.txt','r')\n",
    "for line in f:\n",
    "    values = line.split()\n",
    "    time.append(float(values[0]))\n",
    "    noisy.append(float(values[1]))\n",
    "f.close()\n",
    "\n",
    "###########################\n",
    "# Compute filtered signal\n",
    "\n",
    "# Window size:\n",
    "w = 20\n",
    "\n",
    "# initialise filtered signal list \n",
    "filtered = []\n",
    "for t in range(len(time)):\n",
    "    filtered.append(0.0)\n",
    "\n",
    "# compute moving average\n",
    "for t in range(len(time)):\n",
    "    start = t-(w/2)\n",
    "    end = start+w\n",
    "    if start < 0 or end > len(time):\n",
    "        filtered[t] = 0.0\n",
    "    else:        \n",
    "        filtered[t] = sum(noisy[int(start):int(end)])/float(w)\n",
    "\n",
    "###########################\n",
    "# Plotting\n",
    "\n",
    "pyl.subplot(211)\n",
    "pyl.plot(time,noisy,'b')\n",
    "\n",
    "pyl.subplot(212)\n",
    "pyl.plot(time,filtered,'r')\n",
    "\n",
    "pyl.show()"
   ]
  }
 ],
 "metadata": {
  "kernelspec": {
   "display_name": "Python 3",
   "language": "python",
   "name": "python3"
  },
  "language_info": {
   "codemirror_mode": {
    "name": "ipython",
    "version": 3
   },
   "file_extension": ".py",
   "mimetype": "text/x-python",
   "name": "python",
   "nbconvert_exporter": "python",
   "pygments_lexer": "ipython3",
   "version": "3.5.1"
  }
 },
 "nbformat": 4,
 "nbformat_minor": 0
}
