{
 "cells": [
  {
   "cell_type": "markdown",
   "metadata": {},
   "source": [
    "<b><font size =\"6\">Notebook 5 - solutions</font></b>\n",
    "\n",
    "The following notebook contains the solutions for the fifth notebook in the tutorial. It is recommended that you check those solutions either after you finish the whole notebook."
   ]
  },
  {
   "cell_type": "code",
   "execution_count": null,
   "metadata": {
    "collapsed": false
   },
   "outputs": [],
   "source": [
    "# Data plotting from pulse_data.txt file\n",
    "%matplotlib inline\n",
    "import pylab as pyl\n",
    "\n",
    "####################################\n",
    "# Read data\n",
    "\n",
    "data = []\n",
    "inf = open('files/pulse_data.txt')\n",
    "for line in inf:\n",
    "    data.append(float(line))\n",
    "inf.close()\n",
    "\n",
    "####################################\n",
    "# Initial plots\n",
    "\n",
    "pyl.figure() # start a new figure\n",
    "pyl.plot(data) # plot the unsorted data\n",
    "\n",
    "data.sort() # sorted the values into ascending order\n",
    "\n",
    "pyl.figure() # start a new figure\n",
    "pyl.plot(data) # plot the sorted data\n",
    "\n",
    "####################################\n",
    "# Binning - compute bin counts\n",
    "\n",
    "BINS = 50\n",
    "minval = min(data)\n",
    "maxval = max(data)\n",
    "\n",
    "# initialise counting list:\n",
    "bincounts = []\n",
    "for i in range(BINS):\n",
    "    bincounts.append(0)\n",
    "\n",
    "# Count data into bins:\n",
    "for value in data:\n",
    "    binid = int((value - minval) / (maxval - minval) * BINS)\n",
    "    if binid == BINS:\n",
    "        binid = BINS - 1\n",
    "    bincounts[binid] += 1\n",
    "\n",
    "####################################\n",
    "# Plot bin counts onto a standard graph\n",
    "\n",
    "pyl.figure()\n",
    "pyl.plot(bincounts,'o')\n",
    "\n",
    "####################################\n",
    "# Plot bin counts as a bar chart proper\n",
    "\n",
    "pyl.figure()\n",
    "pyl.bar(range(BINS),bincounts)\n",
    "\n",
    "####################################\n",
    "# Get hist function to compute histogram from data\n",
    "\n",
    "pyl.figure()\n",
    "pyl.hist(data,BINS)\n",
    "\n",
    "####################################\n",
    "# Final call to show plotted figures\n",
    "\n",
    "pyl.show()"
   ]
  }
 ],
 "metadata": {
  "kernelspec": {
   "display_name": "Python 3",
   "language": "python",
   "name": "python3"
  },
  "language_info": {
   "codemirror_mode": {
    "name": "ipython",
    "version": 3
   },
   "file_extension": ".py",
   "mimetype": "text/x-python",
   "name": "python",
   "nbconvert_exporter": "python",
   "pygments_lexer": "ipython3",
   "version": "3.5.1"
  }
 },
 "nbformat": 4,
 "nbformat_minor": 0
}
